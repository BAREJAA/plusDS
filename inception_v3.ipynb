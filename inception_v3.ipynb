{
 "cells": [
  {
   "cell_type": "code",
   "execution_count": 1,
   "metadata": {},
   "outputs": [
    {
     "name": "stderr",
     "output_type": "stream",
     "text": [
      "/Users/gaoqitong/anaconda/envs/py27/lib/python2.7/site-packages/h5py/__init__.py:34: FutureWarning: Conversion of the second argument of issubdtype from `float` to `np.floating` is deprecated. In future, it will be treated as `np.float64 == np.dtype(float).type`.\n",
      "  from ._conv import register_converters as _register_converters\n"
     ]
    }
   ],
   "source": [
    "from __future__ import division\n",
    "import tensorflow as tf\n",
    "import os\n",
    "import pandas as pd\n",
    "import numpy as np\n",
    "from nets import inception_utils, inception_v3"
   ]
  },
  {
   "cell_type": "code",
   "execution_count": null,
   "metadata": {
    "collapsed": true
   },
   "outputs": [],
   "source": [
    "#load data\n",
    "base_skin_dir = os.path.join('./Data/')\n",
    "slim = tf.contrib.slim\n",
    "\n",
    "tile_df = pd.read_csv(os.path.join(base_skin_dir, 'hmnist_299_299_RGB.csv'))\n",
    "input_images = np.reshape(tile_df.values[:,:-1],[-1,299,299,3]).astype(np.float32)\n",
    "input_labels = tile_df.values[:,-1]\n",
    "input_size = np.shape(input_images)[0]\n",
    "\n",
    "images = tf.constant(input_images[:9984], dtype=tf.float32)\n",
    "labels = tf.constant(input_labels[:9984])\n",
    "labels = tf.one_hot(labels, depth=7)"
   ]
  },
  {
   "cell_type": "code",
   "execution_count": null,
   "metadata": {
    "collapsed": true
   },
   "outputs": [],
   "source": [
    "def get_checkpoint_init_fn():\n",
    "    # Load from .ckpt file\n",
    "    variables_to_restore = slim.get_variables_to_restore()\n",
    "    global_step_reset = tf.assign(tf.train.get_or_create_global_step(), 0)\n",
    "    slim_init_fn = slim.assign_from_checkpoint_fn(\"./inception_v3.ckpt\",variables_to_restore,ignore_missing_vars=True)\n",
    "    return slim_init_fn"
   ]
  },
  {
   "cell_type": "code",
   "execution_count": null,
   "metadata": {
    "scrolled": true
   },
   "outputs": [],
   "source": [
    "g = tf.Graph()\n",
    "with g.as_default():\n",
    "    # Split up data into batches\n",
    "    dataset = tf.data.Dataset.from_tensor_slices((input_images,input_labels)).batch(64)\n",
    "    iterator = dataset.make_one_shot_iterator()\n",
    "    image, label = iterator.get_next()\n",
    "    label = tf.one_hot(label, depth=7)\n",
    "    # Creat inception_v3\n",
    "    with slim.arg_scope(inception_v3.inception_v3_arg_scope()):\n",
    "        logits, end_points = inception_v3.inception_v3(image, 7, \"Mixed_5d\", create_aux_logits=False)\n",
    "    loss = tf.losses.softmax_cross_entropy(label, logits)\n",
    "    learning_rate = tf.train.exponential_decay(1e-04, tf.train.get_or_create_global_step(), input_size / 64 * 2.5 , 0.94)\n",
    "    opt = tf.train.GradientDescentOptimizer(learning_rate)\n",
    "    train_tensor = slim.learning.create_train_op(loss, optimizer=opt)\n",
    "    # Creat Summary\n",
    "    slim.summaries.add_scalar_summary(loss, 'cross_entropy_loss', 'losses')\n",
    "    slim.summaries.add_scalar_summary(learning_rate, 'learning_rate', 'training')\n",
    "    \n",
    "    # Train\n",
    "    slim.learning.train(\n",
    "        train_tensor,\n",
    "        \"./saved_model/\",\n",
    "        log_every_n_steps=300,\n",
    "        graph=g,\n",
    "        save_summaries_secs=300,\n",
    "        save_interval_secs=600,\n",
    "        init_fn=get_checkpoint_init_fn(),\n",
    "        global_step=tf.train.get_global_step())"
   ]
  }
 ],
 "metadata": {
  "kernelspec": {
   "display_name": "Python 2",
   "language": "python",
   "name": "python2"
  },
  "language_info": {
   "codemirror_mode": {
    "name": "ipython",
    "version": 2
   },
   "file_extension": ".py",
   "mimetype": "text/x-python",
   "name": "python",
   "nbconvert_exporter": "python",
   "pygments_lexer": "ipython2",
   "version": "2.7.13"
  }
 },
 "nbformat": 4,
 "nbformat_minor": 2
}
